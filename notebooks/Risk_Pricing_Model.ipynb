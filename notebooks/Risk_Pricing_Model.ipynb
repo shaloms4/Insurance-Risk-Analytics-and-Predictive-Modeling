{
 "cells": [
  {
   "cell_type": "code",
   "execution_count": 40,
   "metadata": {},
   "outputs": [],
   "source": [
    "import pandas as pd\n",
    "import numpy as np\n",
    "from sklearn.model_selection import train_test_split\n",
    "from sklearn.preprocessing import OneHotEncoder\n",
    "from sklearn.impute import SimpleImputer\n",
    "from sklearn.compose import ColumnTransformer\n",
    "from sklearn.pipeline import Pipeline\n",
    "from sklearn.linear_model import LinearRegression\n",
    "from sklearn.metrics import mean_squared_error, r2_score\n"
   ]
  },
  {
   "cell_type": "code",
   "execution_count": 41,
   "metadata": {},
   "outputs": [],
   "source": [
    "# Load the data (adjust the path accordingly)\n",
    "df = pd.read_csv(\"../MachineLearningRating_v3.txt\", sep='|', low_memory=False)\n",
    "\n",
    "# Define categorical and numerical columns as you provided\n",
    "categorical_cols = [\n",
    "    'TransactionMonth', 'Citizenship', 'LegalType', 'Title', 'Language', 'Bank',\n",
    "    'AccountType', 'MaritalStatus', 'Gender', 'Country', 'Province', 'MainCrestaZone',\n",
    "    'SubCrestaZone', 'ItemType', 'VehicleType', 'make', 'Model', 'bodytype',\n",
    "    'VehicleIntroDate', 'AlarmImmobiliser', 'TrackingDevice', 'CapitalOutstanding',\n",
    "    'NewVehicle', 'WrittenOff', 'Rebuilt', 'Converted', 'CrossBorder', 'TermFrequency',\n",
    "    'ExcessSelected', 'CoverCategory', 'CoverType', 'CoverGroup', 'Section', 'Product',\n",
    "    'StatutoryClass', 'StatutoryRiskType'\n",
    "]\n",
    "\n",
    "numerical_cols = [\n",
    "    'UnderwrittenCoverID', 'PolicyID', 'PostalCode', 'mmcode', 'RegistrationYear',\n",
    "    'Cylinders', 'cubiccapacity', 'kilowatts', 'NumberOfDoors', 'CustomValueEstimate',\n",
    "    'NumberOfVehiclesInFleet', 'SumInsured', 'CalculatedPremiumPerTerm', 'TotalPremium'\n",
    "]\n",
    "\n",
    "# Target variable\n",
    "target_col = 'TotalClaims'\n"
   ]
  },
  {
   "cell_type": "code",
   "execution_count": 42,
   "metadata": {},
   "outputs": [],
   "source": [
    "# Drop rows where target is missing\n",
    "df = df.dropna(subset=[target_col])\n",
    "\n",
    "# Features and target\n",
    "X = df[categorical_cols + numerical_cols]\n",
    "y = df[target_col].astype(float)\n",
    "\n",
    "# Split data into train and test\n",
    "X_train, X_test, y_train, y_test = train_test_split(X, y, test_size=0.2, random_state=42)\n"
   ]
  },
  {
   "cell_type": "code",
   "execution_count": 43,
   "metadata": {},
   "outputs": [],
   "source": [
    "# Preprocessing pipeline for numerical columns: impute missing with mean\n",
    "numerical_transformer = SimpleImputer(strategy='mean')\n",
    "\n",
    "# Preprocessing pipeline for categorical columns: impute missing with constant and one-hot encode\n",
    "categorical_transformer = Pipeline(steps=[\n",
    "    ('imputer', SimpleImputer(strategy='constant', fill_value='missing')),\n",
    "    ('onehot', OneHotEncoder(handle_unknown='ignore'))\n",
    "])\n",
    "\n",
    "# Combine preprocessing for numerical and categorical features\n",
    "preprocessor = ColumnTransformer(transformers=[\n",
    "    ('num', numerical_transformer, numerical_cols),\n",
    "    ('cat', categorical_transformer, categorical_cols)\n",
    "])\n"
   ]
  },
  {
   "cell_type": "code",
   "execution_count": 44,
   "metadata": {},
   "outputs": [
    {
     "name": "stderr",
     "output_type": "stream",
     "text": [
      "c:\\Users\\fikre\\Insurance-Risk-Analytics-and-Predictive-Modeling\\venv\\lib\\site-packages\\sklearn\\impute\\_base.py:637: UserWarning: Skipping features without any observed values: ['NumberOfVehiclesInFleet']. At least one non-missing value is needed for imputation with strategy='mean'.\n",
      "  warnings.warn(\n",
      "c:\\Users\\fikre\\Insurance-Risk-Analytics-and-Predictive-Modeling\\venv\\lib\\site-packages\\sklearn\\impute\\_base.py:637: UserWarning: Skipping features without any observed values: ['NumberOfVehiclesInFleet']. At least one non-missing value is needed for imputation with strategy='mean'.\n",
      "  warnings.warn(\n"
     ]
    },
    {
     "name": "stdout",
     "output_type": "stream",
     "text": [
      "Linear Regression RMSE: 2204.2326\n",
      "Linear Regression R²: 0.0057\n"
     ]
    }
   ],
   "source": [
    "# Create pipeline that applies preprocessing then linear regression\n",
    "model_pipeline = Pipeline(steps=[\n",
    "    ('preprocessor', preprocessor),\n",
    "    ('regressor', LinearRegression())\n",
    "])\n",
    "\n",
    "# Train model\n",
    "model_pipeline.fit(X_train, y_train)\n",
    "\n",
    "# Predict on test data\n",
    "y_pred = model_pipeline.predict(X_test)\n",
    "\n",
    "# Evaluate model\n",
    "rmse = np.sqrt(mean_squared_error(y_test, y_pred))\n",
    "r2 = r2_score(y_test, y_pred)\n",
    "\n",
    "print(f\"Linear Regression RMSE: {rmse:.4f}\")\n",
    "print(f\"Linear Regression R²: {r2:.4f}\")\n"
   ]
  }
 ],
 "metadata": {
  "kernelspec": {
   "display_name": "venv",
   "language": "python",
   "name": "python3"
  },
  "language_info": {
   "codemirror_mode": {
    "name": "ipython",
    "version": 3
   },
   "file_extension": ".py",
   "mimetype": "text/x-python",
   "name": "python",
   "nbconvert_exporter": "python",
   "pygments_lexer": "ipython3",
   "version": "3.10.11"
  }
 },
 "nbformat": 4,
 "nbformat_minor": 2
}
