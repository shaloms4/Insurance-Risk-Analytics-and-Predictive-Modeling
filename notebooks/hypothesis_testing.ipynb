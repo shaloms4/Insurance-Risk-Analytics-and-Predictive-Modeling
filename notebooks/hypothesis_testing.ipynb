{
 "cells": [
  {
   "cell_type": "code",
   "execution_count": 5,
   "metadata": {},
   "outputs": [
    {
     "name": "stderr",
     "output_type": "stream",
     "text": [
      "C:\\Users\\fikre\\AppData\\Local\\Temp\\ipykernel_23204\\859757445.py:4: DtypeWarning: Columns (32,37) have mixed types. Specify dtype option on import or set low_memory=False.\n",
      "  df = pd.read_csv(\"../MachineLearningRating_v3.txt\", sep='|')\n"
     ]
    }
   ],
   "source": [
    "import pandas as pd\n",
    "import numpy as np\n",
    "\n",
    "df = pd.read_csv(\"../MachineLearningRating_v3.txt\", sep='|')\n",
    "\n",
    "# Preprocessing: Create useful fields\n",
    "df['HasClaim'] = df['TotalClaims'] > 0\n",
    "df['Margin'] = df['TotalPremium'] - df['TotalClaims']\n"
   ]
  },
  {
   "cell_type": "markdown",
   "metadata": {},
   "source": [
    "No risk differences across provinces"
   ]
  },
  {
   "cell_type": "code",
   "execution_count": 7,
   "metadata": {},
   "outputs": [
    {
     "name": "stdout",
     "output_type": "stream",
     "text": [
      "Province Frequency p-value: 5.925510718204678e-19\n",
      "Province Severity p-value: 6.304916760425176e-06\n"
     ]
    }
   ],
   "source": [
    "import scipy.stats as stats\n",
    "\n",
    "# Claim Frequency by Province\n",
    "province_freq = df.groupby('Province')['HasClaim'].mean()\n",
    "\n",
    "# Claim Severity by Province (for those who claimed)\n",
    "severity_data = [group['TotalClaims'] for name, group in df[df['HasClaim']].groupby('Province')]\n",
    "\n",
    "# Test 1: Chi-Squared for frequency difference\n",
    "contingency = pd.crosstab(df['Province'], df['HasClaim'])\n",
    "chi2, p_freq, _, _ = stats.chi2_contingency(contingency)\n",
    "\n",
    "# Test 2: ANOVA for claim severity\n",
    "anova_p = stats.f_oneway(*severity_data).pvalue\n",
    "\n",
    "print(f\"Province Frequency p-value: {p_freq}\")\n",
    "print(f\"Province Severity p-value: {anova_p}\")\n"
   ]
  },
  {
   "cell_type": "markdown",
   "metadata": {},
   "source": [
    "No risk differences between Zip Codes"
   ]
  },
  {
   "cell_type": "code",
   "execution_count": 9,
   "metadata": {},
   "outputs": [
    {
     "name": "stdout",
     "output_type": "stream",
     "text": [
      "Zip Frequency p: 2.5997263446847924e-12, Zip Severity p: 0.0038826391783015673\n"
     ]
    }
   ],
   "source": [
    "# Top 5 zip codes by policy count\n",
    "top_zip = df['PostalCode'].value_counts().nlargest(5).index\n",
    "zip_df = df[df['PostalCode'].isin(top_zip)]\n",
    "\n",
    "# Claim Frequency and Chi-Squared\n",
    "contingency = pd.crosstab(zip_df['PostalCode'], zip_df['HasClaim'])\n",
    "chi2, p_freq_zip, _, _ = stats.chi2_contingency(contingency)\n",
    "\n",
    "# Claim Severity ANOVA\n",
    "zip_severity = [group['TotalClaims'] for name, group in zip_df[zip_df['HasClaim']].groupby('PostalCode')]\n",
    "p_anova_zip = stats.f_oneway(*zip_severity).pvalue\n",
    "\n",
    "print(f\"Zip Frequency p: {p_freq_zip}, Zip Severity p: {p_anova_zip}\")\n"
   ]
  },
  {
   "cell_type": "markdown",
   "metadata": {},
   "source": [
    "No significant margin difference between zip codes"
   ]
  },
  {
   "cell_type": "code",
   "execution_count": 10,
   "metadata": {},
   "outputs": [
    {
     "name": "stdout",
     "output_type": "stream",
     "text": [
      "Zip Margin Difference p-value: 0.04693183137128581\n"
     ]
    }
   ],
   "source": [
    "# Compare average Margin across top zip codes\n",
    "margin_by_zip = [group['Margin'] for _, group in zip_df.groupby('PostalCode')]\n",
    "p_margin = stats.f_oneway(*margin_by_zip).pvalue\n",
    "\n",
    "print(f\"Zip Margin Difference p-value: {p_margin}\")\n"
   ]
  },
  {
   "cell_type": "markdown",
   "metadata": {},
   "source": [
    "No significant risk difference between Women and Men"
   ]
  },
  {
   "cell_type": "code",
   "execution_count": 11,
   "metadata": {},
   "outputs": [
    {
     "name": "stdout",
     "output_type": "stream",
     "text": [
      "Gender Frequency p-value: 0.026570248768437145\n",
      "Gender Severity p-value: 0.5680286951630678\n"
     ]
    }
   ],
   "source": [
    "# Frequency Chi-Squared\n",
    "contingency_gender = pd.crosstab(df['Gender'], df['HasClaim'])\n",
    "chi2_gender, p_freq_gender, _, _ = stats.chi2_contingency(contingency_gender)\n",
    "\n",
    "# Severity t-test\n",
    "men_claims = df[(df['Gender'] == 'Male') & (df['HasClaim'])]['TotalClaims']\n",
    "women_claims = df[(df['Gender'] == 'Female') & (df['HasClaim'])]['TotalClaims']\n",
    "p_gender_severity = stats.ttest_ind(men_claims, women_claims, equal_var=False).pvalue\n",
    "\n",
    "print(f\"Gender Frequency p-value: {p_freq_gender}\")\n",
    "print(f\"Gender Severity p-value: {p_gender_severity}\")\n"
   ]
  },
  {
   "cell_type": "markdown",
   "metadata": {},
   "source": [
    "| Hypothesis                                                    | p-value(s)                                                | Interpretation                                                                                               | Business Insight                                                                                                                                |\n",
    "| ------------------------------------------------------------- | --------------------------------------------------------- | ------------------------------------------------------------------------------------------------------------ | ----------------------------------------------------------------------------------------------------------------------------------------------- |\n",
    "| **Risk differences across Provinces (Frequency & Severity)**  | Frequency: 5.93e-19 < 0.05 <br> Severity: 6.30e-06 < 0.05 | **Reject H₀** — Significant difference in risk between provinces both in claim frequency and claim severity. | Some provinces are riskier; premium pricing should vary regionally to reflect this risk.                                                        |\n",
    "| **Risk differences between Zip Codes (Frequency & Severity)** | Frequency: 2.60e-12 < 0.05 <br> Severity: 0.00388 < 0.05  | **Reject H₀** — Statistically significant difference in claim frequency and severity across zip codes.       | Zip code is a meaningful factor to segment risk; pricing and marketing strategies should consider location at this granularity.                 |\n",
    "| **Margin difference between Zip Codes**                       | 0.0469 < 0.05                                             | **Reject H₀** — Significant difference in profitability across zip codes.                                    | Some zip codes yield better profit margins; targeting low-margin areas with pricing or marketing adjustments could improve profitability.       |\n",
    "| **Risk difference between Gender (Frequency & Severity)**     | Frequency: 0.027 < 0.05 <br> Severity: 0.568 > 0.05       | **Partial Rejection:** Claim frequency differs by gender, but claim severity does not.                       | Gender influences how often claims are made, but not the size of claims. Consider gender in risk segmentation mainly for frequency predictions. |\n"
   ]
  }
 ],
 "metadata": {
  "kernelspec": {
   "display_name": "venv",
   "language": "python",
   "name": "python3"
  },
  "language_info": {
   "codemirror_mode": {
    "name": "ipython",
    "version": 3
   },
   "file_extension": ".py",
   "mimetype": "text/x-python",
   "name": "python",
   "nbconvert_exporter": "python",
   "pygments_lexer": "ipython3",
   "version": "3.10.11"
  }
 },
 "nbformat": 4,
 "nbformat_minor": 2
}
